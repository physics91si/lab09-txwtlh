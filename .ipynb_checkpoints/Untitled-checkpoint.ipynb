{
 "cells": [
  {
   "cell_type": "code",
   "execution_count": 5,
   "metadata": {},
   "outputs": [],
   "source": [
    "# Modules you won't need\n",
    "import sys\n",
    "import matplotlib.pyplot as plt\n",
    "import matplotlib.animation as animation\n",
    "\n",
    "# Modules you will need\n",
    "import numpy as np\n",
    "import particle\n",
    "import molecule\n",
    "import random"
   ]
  },
  {
   "cell_type": "code",
   "execution_count": 21,
   "metadata": {},
   "outputs": [],
   "source": [
    "def init_molecule():\n",
    "    \"\"\"Create Particles p1 and p2 inside boundaries and return a molecule\n",
    "    connecting them\"\"\"\n",
    "    \n",
    "    pos1 = np.array([[0.2], [0.2]])\n",
    "    pos2 = np.array([[0.8], [0.8]])\n",
    "    m1 = 1\n",
    "    m2 = 2\n",
    "    k = 1\n",
    "    L0 = 0.5\n",
    "\n",
    "    mol = molecule.Molecule(pos1, pos2, m1, m2, k, L0)\n",
    "    return mol"
   ]
  },
  {
   "cell_type": "code",
   "execution_count": 22,
   "metadata": {},
   "outputs": [],
   "source": [
    "def time_step(dt, mol):\n",
    "    \"\"\"Sets new positions and velocities of the particles attached to mol\"\"\"\n",
    "    \n",
    "    dt += 0.5*dt\n",
    "    mol.p1.vel += mol.get_force()*dt/mol.p1.m\n",
    "    mol.p2.vel += mol.get_force()*dt/mol.p2.m\n",
    "\n",
    "    dt += 0.5*dt\n",
    "    mol.p1.pos += mol.p1.vel*dt\n",
    "    mol.p2.pos += mol.p2.vel*dt"
   ]
  },
  {
   "cell_type": "code",
   "execution_count": 23,
   "metadata": {
    "scrolled": true
   },
   "outputs": [
    {
     "data": {
      "image/png": "[encoded data removed]",
      "text/plain": [
       "<matplotlib.figure.Figure at 0x1bb08c18438>"
      ]
     },
     "metadata": {},
     "output_type": "display_data"
    }
   ],
   "source": [
    "def run_dynamics(n, dt, xlim=(0, 1), ylim=(0, 1)):\n",
    "    \"\"\"Calculate each successive time step and animate it\"\"\"\n",
    "    mol = init_molecule()\n",
    "    \n",
    "    # Animation stuff\n",
    "    fig, ax = plt.subplots()\n",
    "    line, = ax.plot((mol.p1.pos[0], mol.p2.pos[0]), (mol.p1.pos[1], mol.p2.pos[1]), '-o')\n",
    "    plt.xlim(xlim)\n",
    "    plt.ylim(ylim)\n",
    "    plt.xlabel(r'$x$')\n",
    "    plt.ylabel(r'$y$')\n",
    "    plt.title('Dynamics simulation')\n",
    "    dynamic_ani = animation.FuncAnimation(fig, update_anim, n,\n",
    "            fargs=(dt, mol,line), interval=50, blit=False)\n",
    "    plt.show()\n",
    "\n",
    "def update_anim(i,dt, mol,line):\n",
    "    \"\"\"Update and draw the molecule. Called by FuncAnimation\"\"\"\n",
    "    time_step(dt, mol)\n",
    "    line.set_data([(mol.p1.pos[0], mol.p2.pos[0]),\n",
    "                   (mol.p1.pos[1], mol.p2.pos[1])])\n",
    "    return line,\n",
    "\n",
    "if __name__ == '__main__':\n",
    "    # Set the number of iterations and time step size\n",
    "    n = 10\n",
    "    dt = .1\n",
    "    run_dynamics(n, dt)\n"
   ]
  },
  {
   "cell_type": "code",
   "execution_count": null,
   "metadata": {},
   "outputs": [],
   "source": []
  }
 ],
 "metadata": {
  "kernelspec": {
   "display_name": "Python 3",
   "language": "python",
   "name": "python3"
  },
  "language_info": {
   "codemirror_mode": {
    "name": "ipython",
    "version": 3
   },
   "file_extension": ".py",
   "mimetype": "text/x-python",
   "name": "python",
   "nbconvert_exporter": "python",
   "pygments_lexer": "ipython3",
   "version": "3.6.4"
  }
 },
 "nbformat": 4,
 "nbformat_minor": 2
}
